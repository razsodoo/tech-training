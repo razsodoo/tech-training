{
 "cells": [
  {
   "cell_type": "markdown",
   "id": "2a522f57-204a-4cec-85b4-f7adffea3c81",
   "metadata": {},
   "source": [
    "✅ 1. Crear un registro con más de 1000 millas y sin placa (license_plate)"
   ]
  },
  {
   "cell_type": "code",
   "execution_count": null,
   "id": "58dbd15b-2ed3-4411-b18e-0f305611bd8b",
   "metadata": {},
   "outputs": [],
   "source": [
    "record = env[\"motorcycle.registry\"].create({\n",
    "    \"first_name\": \"Marco\",\n",
    "    \"last_name\": \"Bezzecchi\",\n",
    "    \"registry_number\": \"REG004\",\n",
    "    \"vin\": \"ZDM1YBZW2LB123456\",\n",
    "    \"current_mileage\": 1500,  # >1000\n",
    "    # sin license_plate\n",
    "})"
   ]
  },
  {
   "cell_type": "markdown",
   "id": "3988546e-85a4-459e-b5c3-4900b8b09697",
   "metadata": {},
   "source": [
    "✅ 2. Buscar todos los registros con menos de 1000 millas"
   ]
  },
  {
   "cell_type": "code",
   "execution_count": null,
   "id": "4ec7a0fc-1f03-4f58-a6a9-509907c10cde",
   "metadata": {},
   "outputs": [],
   "source": [
    "env[\"motorcycle.registry\"].search([(\"current_mileage\", \"<\", 1000)])"
   ]
  },
  {
   "cell_type": "markdown",
   "id": "1dc7b922-f744-4e75-8394-0b8d037575c9",
   "metadata": {},
   "source": [
    "✅ 3. Buscar registros con vin pero sin license_plate, y mostrar solo registry_number, vin, license_plate y last_name"
   ]
  },
  {
   "cell_type": "code",
   "execution_count": null,
   "id": "017febfd-ebc5-498d-bee8-71e710b284a8",
   "metadata": {},
   "outputs": [],
   "source": [
    "env[\"motorcycle.registry\"].search_read(\n",
    "    [(\"vin\", \"!=\", False), (\"license_plate\", \"=\", False)],\n",
    "    [\"registry_number\", \"vin\", \"license_plate\", \"last_name\"]\n",
    ")"
   ]
  },
  {
   "cell_type": "markdown",
   "id": "3cfeeb9a-7989-4d37-840a-2e9caf5bde3a",
   "metadata": {},
   "source": [
    "✅ 4. Buscar todos los registros con date_registry o con vin"
   ]
  },
  {
   "cell_type": "code",
   "execution_count": null,
   "id": "f296288a-fae6-4630-ac91-6def21f1a3d8",
   "metadata": {},
   "outputs": [],
   "source": [
    "env[\"motorcycle.registry\"].search([\"|\", (\"date_registry\", \"!=\", False), (\"vin\", \"!=\", False)])"
   ]
  },
  {
   "cell_type": "markdown",
   "id": "0c1498ac-a6eb-4faf-9e40-38656c3c3c5a",
   "metadata": {},
   "source": [
    "✅ 5. Actualizar el nombre y apellido del registro creado a Francesco Bagnaia"
   ]
  },
  {
   "cell_type": "code",
   "execution_count": null,
   "id": "3744fc3c-5150-4d33-8158-f7aa3080d972",
   "metadata": {},
   "outputs": [],
   "source": [
    "record.write({\n",
    "    \"first_name\": \"Francesco\",\n",
    "    \"last_name\": \"Bagnaia\"\n",
    "})"
   ]
  },
  {
   "cell_type": "markdown",
   "id": "919acb88-2b8e-45d0-a034-39cfb06f8d71",
   "metadata": {},
   "source": [
    "✅ 6. Eliminar el registro"
   ]
  },
  {
   "cell_type": "code",
   "execution_count": null,
   "id": "8ea58f91-7378-4124-b848-5b9678523324",
   "metadata": {},
   "outputs": [],
   "source": [
    "record.unlink()"
   ]
  }
 ],
 "metadata": {
  "kernelspec": {
   "display_name": "Python 3 (ipykernel)",
   "language": "python",
   "name": "python3"
  },
  "language_info": {
   "codemirror_mode": {
    "name": "ipython",
    "version": 3
   },
   "file_extension": ".py",
   "mimetype": "text/x-python",
   "name": "python",
   "nbconvert_exporter": "python",
   "pygments_lexer": "ipython3",
   "version": "3.12.3"
  }
 },
 "nbformat": 4,
 "nbformat_minor": 5
}
